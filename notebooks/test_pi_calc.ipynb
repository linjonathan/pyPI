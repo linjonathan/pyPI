{
 "cells": [
  {
   "cell_type": "markdown",
   "metadata": {},
   "source": [
    "# Goal"
   ]
  },
  {
   "cell_type": "markdown",
   "metadata": {},
   "source": [
    "This notebook tests the PI code to ensure it runs smoothly and provides reasonable output. A full QC of the code is provided in \"verify_pi\"."
   ]
  },
  {
   "cell_type": "markdown",
   "metadata": {},
   "source": [
    "# Setup"
   ]
  },
  {
   "cell_type": "code",
   "execution_count": 1,
   "metadata": {},
   "outputs": [],
   "source": [
    "import sys\n",
    "sys.path.append(sys.path[0]+'/..')\n",
    "import numpy as np\n",
    "import xarray as xr\n",
    "import matplotlib\n",
    "import matplotlib.pyplot as plt\n",
    "# load PI calculation module\n",
    "from pi import cape"
   ]
  },
  {
   "cell_type": "code",
   "execution_count": 2,
   "metadata": {},
   "outputs": [],
   "source": [
    "# change default figure font settings\n",
    "font = {'family' : 'sans-serif',\n",
    "        'weight' : 1,\n",
    "        'size'   : 16}\n",
    "\n",
    "matplotlib.rc('font', **font)"
   ]
  },
  {
   "cell_type": "markdown",
   "metadata": {},
   "source": [
    "# Load Data and Code"
   ]
  },
  {
   "cell_type": "code",
   "execution_count": 3,
   "metadata": {},
   "outputs": [],
   "source": [
    "# data location\n",
    "dat_loc='../data/sample_data.nc'"
   ]
  },
  {
   "cell_type": "code",
   "execution_count": 4,
   "metadata": {},
   "outputs": [
    {
     "data": {
      "text/html": [
       "<div><svg style=\"position: absolute; width: 0; height: 0; overflow: hidden\">\n",
       "<defs>\n",
       "<symbol id=\"icon-database\" viewBox=\"0 0 32 32\">\n",
       "<title>Show/Hide data repr</title>\n",
       "<path d=\"M16 0c-8.837 0-16 2.239-16 5v4c0 2.761 7.163 5 16 5s16-2.239 16-5v-4c0-2.761-7.163-5-16-5z\"></path>\n",
       "<path d=\"M16 17c-8.837 0-16-2.239-16-5v6c0 2.761 7.163 5 16 5s16-2.239 16-5v-6c0 2.761-7.163 5-16 5z\"></path>\n",
       "<path d=\"M16 26c-8.837 0-16-2.239-16-5v6c0 2.761 7.163 5 16 5s16-2.239 16-5v-6c0 2.761-7.163 5-16 5z\"></path>\n",
       "</symbol>\n",
       "<symbol id=\"icon-file-text2\" viewBox=\"0 0 32 32\">\n",
       "<title>Show/Hide attributes</title>\n",
       "<path d=\"M28.681 7.159c-0.694-0.947-1.662-2.053-2.724-3.116s-2.169-2.030-3.116-2.724c-1.612-1.182-2.393-1.319-2.841-1.319h-15.5c-1.378 0-2.5 1.121-2.5 2.5v27c0 1.378 1.122 2.5 2.5 2.5h23c1.378 0 2.5-1.122 2.5-2.5v-19.5c0-0.448-0.137-1.23-1.319-2.841zM24.543 5.457c0.959 0.959 1.712 1.825 2.268 2.543h-4.811v-4.811c0.718 0.556 1.584 1.309 2.543 2.268zM28 29.5c0 0.271-0.229 0.5-0.5 0.5h-23c-0.271 0-0.5-0.229-0.5-0.5v-27c0-0.271 0.229-0.5 0.5-0.5 0 0 15.499-0 15.5 0v7c0 0.552 0.448 1 1 1h7v19.5z\"></path>\n",
       "<path d=\"M23 26h-14c-0.552 0-1-0.448-1-1s0.448-1 1-1h14c0.552 0 1 0.448 1 1s-0.448 1-1 1z\"></path>\n",
       "<path d=\"M23 22h-14c-0.552 0-1-0.448-1-1s0.448-1 1-1h14c0.552 0 1 0.448 1 1s-0.448 1-1 1z\"></path>\n",
       "<path d=\"M23 18h-14c-0.552 0-1-0.448-1-1s0.448-1 1-1h14c0.552 0 1 0.448 1 1s-0.448 1-1 1z\"></path>\n",
       "</symbol>\n",
       "</defs>\n",
       "</svg>\n",
       "<style>/* CSS stylesheet for displaying xarray objects in jupyterlab.\n",
       " *\n",
       " */\n",
       "\n",
       ":root {\n",
       "  --xr-font-color0: var(--jp-content-font-color0, rgba(0, 0, 0, 1));\n",
       "  --xr-font-color2: var(--jp-content-font-color2, rgba(0, 0, 0, 0.54));\n",
       "  --xr-font-color3: var(--jp-content-font-color3, rgba(0, 0, 0, 0.38));\n",
       "  --xr-border-color: var(--jp-border-color2, #e0e0e0);\n",
       "  --xr-disabled-color: var(--jp-layout-color3, #bdbdbd);\n",
       "  --xr-background-color: var(--jp-layout-color0, white);\n",
       "  --xr-background-color-row-even: var(--jp-layout-color1, white);\n",
       "  --xr-background-color-row-odd: var(--jp-layout-color2, #eeeeee);\n",
       "}\n",
       "\n",
       ".xr-wrap {\n",
       "  min-width: 300px;\n",
       "  max-width: 700px;\n",
       "}\n",
       "\n",
       ".xr-header {\n",
       "  padding-top: 6px;\n",
       "  padding-bottom: 6px;\n",
       "  margin-bottom: 4px;\n",
       "  border-bottom: solid 1px var(--xr-border-color);\n",
       "}\n",
       "\n",
       ".xr-header > div,\n",
       ".xr-header > ul {\n",
       "  display: inline;\n",
       "  margin-top: 0;\n",
       "  margin-bottom: 0;\n",
       "}\n",
       "\n",
       ".xr-obj-type,\n",
       ".xr-array-name {\n",
       "  margin-left: 2px;\n",
       "  margin-right: 10px;\n",
       "}\n",
       "\n",
       ".xr-obj-type {\n",
       "  color: var(--xr-font-color2);\n",
       "}\n",
       "\n",
       ".xr-sections {\n",
       "  padding-left: 0 !important;\n",
       "  display: grid;\n",
       "  grid-template-columns: 150px auto auto 1fr 20px 20px;\n",
       "}\n",
       "\n",
       ".xr-section-item {\n",
       "  display: contents;\n",
       "}\n",
       "\n",
       ".xr-section-item input {\n",
       "  display: none;\n",
       "}\n",
       "\n",
       ".xr-section-item input + label {\n",
       "  color: var(--xr-disabled-color);\n",
       "}\n",
       "\n",
       ".xr-section-item input:enabled + label {\n",
       "  cursor: pointer;\n",
       "  color: var(--xr-font-color2);\n",
       "}\n",
       "\n",
       ".xr-section-item input:enabled + label:hover {\n",
       "  color: var(--xr-font-color0);\n",
       "}\n",
       "\n",
       ".xr-section-summary {\n",
       "  grid-column: 1;\n",
       "  color: var(--xr-font-color2);\n",
       "  font-weight: 500;\n",
       "}\n",
       "\n",
       ".xr-section-summary > span {\n",
       "  display: inline-block;\n",
       "  padding-left: 0.5em;\n",
       "}\n",
       "\n",
       ".xr-section-summary-in:disabled + label {\n",
       "  color: var(--xr-font-color2);\n",
       "}\n",
       "\n",
       ".xr-section-summary-in + label:before {\n",
       "  display: inline-block;\n",
       "  content: '►';\n",
       "  font-size: 11px;\n",
       "  width: 15px;\n",
       "  text-align: center;\n",
       "}\n",
       "\n",
       ".xr-section-summary-in:disabled + label:before {\n",
       "  color: var(--xr-disabled-color);\n",
       "}\n",
       "\n",
       ".xr-section-summary-in:checked + label:before {\n",
       "  content: '▼';\n",
       "}\n",
       "\n",
       ".xr-section-summary-in:checked + label > span {\n",
       "  display: none;\n",
       "}\n",
       "\n",
       ".xr-section-summary,\n",
       ".xr-section-inline-details {\n",
       "  padding-top: 4px;\n",
       "  padding-bottom: 4px;\n",
       "}\n",
       "\n",
       ".xr-section-inline-details {\n",
       "  grid-column: 2 / -1;\n",
       "}\n",
       "\n",
       ".xr-section-details {\n",
       "  display: none;\n",
       "  grid-column: 1 / -1;\n",
       "  margin-bottom: 5px;\n",
       "}\n",
       "\n",
       ".xr-section-summary-in:checked ~ .xr-section-details {\n",
       "  display: contents;\n",
       "}\n",
       "\n",
       ".xr-array-wrap {\n",
       "  grid-column: 1 / -1;\n",
       "  display: grid;\n",
       "  grid-template-columns: 20px auto;\n",
       "}\n",
       "\n",
       ".xr-array-wrap > label {\n",
       "  grid-column: 1;\n",
       "  vertical-align: top;\n",
       "}\n",
       "\n",
       ".xr-preview {\n",
       "  color: var(--xr-font-color3);\n",
       "}\n",
       "\n",
       ".xr-array-preview,\n",
       ".xr-array-data {\n",
       "  padding: 0 5px !important;\n",
       "  grid-column: 2;\n",
       "}\n",
       "\n",
       ".xr-array-data,\n",
       ".xr-array-in:checked ~ .xr-array-preview {\n",
       "  display: none;\n",
       "}\n",
       "\n",
       ".xr-array-in:checked ~ .xr-array-data,\n",
       ".xr-array-preview {\n",
       "  display: inline-block;\n",
       "}\n",
       "\n",
       ".xr-dim-list {\n",
       "  display: inline-block !important;\n",
       "  list-style: none;\n",
       "  padding: 0 !important;\n",
       "  margin: 0;\n",
       "}\n",
       "\n",
       ".xr-dim-list li {\n",
       "  display: inline-block;\n",
       "  padding: 0;\n",
       "  margin: 0;\n",
       "}\n",
       "\n",
       ".xr-dim-list:before {\n",
       "  content: '(';\n",
       "}\n",
       "\n",
       ".xr-dim-list:after {\n",
       "  content: ')';\n",
       "}\n",
       "\n",
       ".xr-dim-list li:not(:last-child):after {\n",
       "  content: ',';\n",
       "  padding-right: 5px;\n",
       "}\n",
       "\n",
       ".xr-has-index {\n",
       "  font-weight: bold;\n",
       "}\n",
       "\n",
       ".xr-var-list,\n",
       ".xr-var-item {\n",
       "  display: contents;\n",
       "}\n",
       "\n",
       ".xr-var-item > div,\n",
       ".xr-var-item label,\n",
       ".xr-var-item > .xr-var-name span {\n",
       "  background-color: var(--xr-background-color-row-even);\n",
       "  margin-bottom: 0;\n",
       "}\n",
       "\n",
       ".xr-var-item > .xr-var-name:hover span {\n",
       "  padding-right: 5px;\n",
       "}\n",
       "\n",
       ".xr-var-list > li:nth-child(odd) > div,\n",
       ".xr-var-list > li:nth-child(odd) > label,\n",
       ".xr-var-list > li:nth-child(odd) > .xr-var-name span {\n",
       "  background-color: var(--xr-background-color-row-odd);\n",
       "}\n",
       "\n",
       ".xr-var-name {\n",
       "  grid-column: 1;\n",
       "}\n",
       "\n",
       ".xr-var-dims {\n",
       "  grid-column: 2;\n",
       "}\n",
       "\n",
       ".xr-var-dtype {\n",
       "  grid-column: 3;\n",
       "  text-align: right;\n",
       "  color: var(--xr-font-color2);\n",
       "}\n",
       "\n",
       ".xr-var-preview {\n",
       "  grid-column: 4;\n",
       "}\n",
       "\n",
       ".xr-var-name,\n",
       ".xr-var-dims,\n",
       ".xr-var-dtype,\n",
       ".xr-preview,\n",
       ".xr-attrs dt {\n",
       "  white-space: nowrap;\n",
       "  overflow: hidden;\n",
       "  text-overflow: ellipsis;\n",
       "  padding-right: 10px;\n",
       "}\n",
       "\n",
       ".xr-var-name:hover,\n",
       ".xr-var-dims:hover,\n",
       ".xr-var-dtype:hover,\n",
       ".xr-attrs dt:hover {\n",
       "  overflow: visible;\n",
       "  width: auto;\n",
       "  z-index: 1;\n",
       "}\n",
       "\n",
       ".xr-var-attrs,\n",
       ".xr-var-data {\n",
       "  display: none;\n",
       "  background-color: var(--xr-background-color) !important;\n",
       "  padding-bottom: 5px !important;\n",
       "}\n",
       "\n",
       ".xr-var-attrs-in:checked ~ .xr-var-attrs,\n",
       ".xr-var-data-in:checked ~ .xr-var-data {\n",
       "  display: block;\n",
       "}\n",
       "\n",
       ".xr-var-data > table {\n",
       "  float: right;\n",
       "}\n",
       "\n",
       ".xr-var-name span,\n",
       ".xr-var-data,\n",
       ".xr-attrs {\n",
       "  padding-left: 25px !important;\n",
       "}\n",
       "\n",
       ".xr-attrs,\n",
       ".xr-var-attrs,\n",
       ".xr-var-data {\n",
       "  grid-column: 1 / -1;\n",
       "}\n",
       "\n",
       "dl.xr-attrs {\n",
       "  padding: 0;\n",
       "  margin: 0;\n",
       "  display: grid;\n",
       "  grid-template-columns: 125px auto;\n",
       "}\n",
       "\n",
       ".xr-attrs dt, dd {\n",
       "  padding: 0;\n",
       "  margin: 0;\n",
       "  float: left;\n",
       "  padding-right: 10px;\n",
       "  width: auto;\n",
       "}\n",
       "\n",
       ".xr-attrs dt {\n",
       "  font-weight: normal;\n",
       "  grid-column: 1;\n",
       "}\n",
       "\n",
       ".xr-attrs dt:hover span {\n",
       "  display: inline-block;\n",
       "  background: var(--xr-background-color);\n",
       "  padding-right: 10px;\n",
       "}\n",
       "\n",
       ".xr-attrs dd {\n",
       "  grid-column: 2;\n",
       "  white-space: pre-wrap;\n",
       "  word-break: break-all;\n",
       "}\n",
       "\n",
       ".xr-icon-database,\n",
       ".xr-icon-file-text2 {\n",
       "  display: inline-block;\n",
       "  vertical-align: middle;\n",
       "  width: 1em;\n",
       "  height: 1.5em !important;\n",
       "  stroke-width: 0;\n",
       "  stroke: currentColor;\n",
       "  fill: currentColor;\n",
       "}\n",
       "</style><div class='xr-wrap'><div class='xr-header'><div class='xr-obj-type'>xarray.Dataset</div></div><ul class='xr-sections'><li class='xr-section-item'><input id='section-9398a498-19a9-48b9-b265-7b486233c5a8' class='xr-section-summary-in' type='checkbox' disabled ><label for='section-9398a498-19a9-48b9-b265-7b486233c5a8' class='xr-section-summary'  title='Expand/collapse section'>Dimensions:</label><div class='xr-section-inline-details'><ul class='xr-dim-list'><li><span class='xr-has-index'>lat</span>: 73</li><li><span class='xr-has-index'>lon</span>: 144</li><li><span class='xr-has-index'>month</span>: 12</li><li><span class='xr-has-index'>p</span>: 31</li></ul></div><div class='xr-section-details'></div></li><li class='xr-section-item'><input id='section-0556dc85-fce9-45f4-b03d-9d0c31838886' class='xr-section-summary-in' type='checkbox'  checked><label for='section-0556dc85-fce9-45f4-b03d-9d0c31838886' class='xr-section-summary' >Coordinates: <span>(4)</span></label><div class='xr-section-inline-details'></div><div class='xr-section-details'><ul class='xr-var-list'><li class='xr-var-item'><div class='xr-var-name'><span class='xr-has-index'>p</span></div><div class='xr-var-dims'>(p)</div><div class='xr-var-dtype'>float64</div><div class='xr-var-preview xr-preview'>1e+03 975.0 950.0 ... 20.0 10.0</div><input id='attrs-144036cf-5ed7-4110-93d5-9e8d53c5edc1' class='xr-var-attrs-in' type='checkbox' ><label for='attrs-144036cf-5ed7-4110-93d5-9e8d53c5edc1' title='Show/Hide attributes'><svg class='icon xr-icon-file-text2'><use xlink:href='#icon-file-text2'></use></svg></label><input id='data-dcea8006-be94-43fe-a61d-fced2fb1ae92' class='xr-var-data-in' type='checkbox'><label for='data-dcea8006-be94-43fe-a61d-fced2fb1ae92' title='Show/Hide data repr'><svg class='icon xr-icon-database'><use xlink:href='#icon-database'></use></svg></label><div class='xr-var-attrs'><dl class='xr-attrs'><dt><span>standard_name :</span></dt><dd>Atmospheric Pressure</dd><dt><span>units :</span></dt><dd>hPa</dd></dl></div><pre class='xr-var-data'>array([1000.,  975.,  950.,  925.,  900.,  875.,  850.,  825.,  800.,  775.,\n",
       "        750.,  725.,  700.,  650.,  600.,  550.,  500.,  450.,  400.,  350.,\n",
       "        300.,  250.,  200.,  150.,  100.,   70.,   50.,   40.,   30.,   20.,\n",
       "         10.])</pre></li><li class='xr-var-item'><div class='xr-var-name'><span class='xr-has-index'>lat</span></div><div class='xr-var-dims'>(lat)</div><div class='xr-var-dtype'>float64</div><div class='xr-var-preview xr-preview'>90.0 87.5 85.0 ... -87.5 -90.0</div><input id='attrs-427e61ee-2638-4e2e-9ab3-8ccd649cbab8' class='xr-var-attrs-in' type='checkbox' ><label for='attrs-427e61ee-2638-4e2e-9ab3-8ccd649cbab8' title='Show/Hide attributes'><svg class='icon xr-icon-file-text2'><use xlink:href='#icon-file-text2'></use></svg></label><input id='data-9f8a0637-d403-4221-86d1-520bf2202c33' class='xr-var-data-in' type='checkbox'><label for='data-9f8a0637-d403-4221-86d1-520bf2202c33' title='Show/Hide data repr'><svg class='icon xr-icon-database'><use xlink:href='#icon-database'></use></svg></label><div class='xr-var-attrs'><dl class='xr-attrs'><dt><span>standard_name :</span></dt><dd>Latitude</dd><dt><span>units :</span></dt><dd>degrees</dd></dl></div><pre class='xr-var-data'>array([ 90. ,  87.5,  85. ,  82.5,  80. ,  77.5,  75. ,  72.5,  70. ,  67.5,\n",
       "        65. ,  62.5,  60. ,  57.5,  55. ,  52.5,  50. ,  47.5,  45. ,  42.5,\n",
       "        40. ,  37.5,  35. ,  32.5,  30. ,  27.5,  25. ,  22.5,  20. ,  17.5,\n",
       "        15. ,  12.5,  10. ,   7.5,   5. ,   2.5,   0. ,  -2.5,  -5. ,  -7.5,\n",
       "       -10. , -12.5, -15. , -17.5, -20. , -22.5, -25. , -27.5, -30. , -32.5,\n",
       "       -35. , -37.5, -40. , -42.5, -45. , -47.5, -50. , -52.5, -55. , -57.5,\n",
       "       -60. , -62.5, -65. , -67.5, -70. , -72.5, -75. , -77.5, -80. , -82.5,\n",
       "       -85. , -87.5, -90. ])</pre></li><li class='xr-var-item'><div class='xr-var-name'><span class='xr-has-index'>lon</span></div><div class='xr-var-dims'>(lon)</div><div class='xr-var-dtype'>float64</div><div class='xr-var-preview xr-preview'>-180.0 -177.5 ... 175.0 177.5</div><input id='attrs-c8ad5ba4-5db5-4e17-aa7b-4a7ee604f3c4' class='xr-var-attrs-in' type='checkbox' ><label for='attrs-c8ad5ba4-5db5-4e17-aa7b-4a7ee604f3c4' title='Show/Hide attributes'><svg class='icon xr-icon-file-text2'><use xlink:href='#icon-file-text2'></use></svg></label><input id='data-bcdca9ff-c045-407d-ba1d-28203b8c1e62' class='xr-var-data-in' type='checkbox'><label for='data-bcdca9ff-c045-407d-ba1d-28203b8c1e62' title='Show/Hide data repr'><svg class='icon xr-icon-database'><use xlink:href='#icon-database'></use></svg></label><div class='xr-var-attrs'><dl class='xr-attrs'><dt><span>standard_name :</span></dt><dd>Longitude</dd><dt><span>units :</span></dt><dd>degrees</dd></dl></div><pre class='xr-var-data'>array([-180. , -177.5, -175. , -172.5, -170. , -167.5, -165. , -162.5, -160. ,\n",
       "       -157.5, -155. , -152.5, -150. , -147.5, -145. , -142.5, -140. , -137.5,\n",
       "       -135. , -132.5, -130. , -127.5, -125. , -122.5, -120. , -117.5, -115. ,\n",
       "       -112.5, -110. , -107.5, -105. , -102.5, -100. ,  -97.5,  -95. ,  -92.5,\n",
       "        -90. ,  -87.5,  -85. ,  -82.5,  -80. ,  -77.5,  -75. ,  -72.5,  -70. ,\n",
       "        -67.5,  -65. ,  -62.5,  -60. ,  -57.5,  -55. ,  -52.5,  -50. ,  -47.5,\n",
       "        -45. ,  -42.5,  -40. ,  -37.5,  -35. ,  -32.5,  -30. ,  -27.5,  -25. ,\n",
       "        -22.5,  -20. ,  -17.5,  -15. ,  -12.5,  -10. ,   -7.5,   -5. ,   -2.5,\n",
       "          0. ,    2.5,    5. ,    7.5,   10. ,   12.5,   15. ,   17.5,   20. ,\n",
       "         22.5,   25. ,   27.5,   30. ,   32.5,   35. ,   37.5,   40. ,   42.5,\n",
       "         45. ,   47.5,   50. ,   52.5,   55. ,   57.5,   60. ,   62.5,   65. ,\n",
       "         67.5,   70. ,   72.5,   75. ,   77.5,   80. ,   82.5,   85. ,   87.5,\n",
       "         90. ,   92.5,   95. ,   97.5,  100. ,  102.5,  105. ,  107.5,  110. ,\n",
       "        112.5,  115. ,  117.5,  120. ,  122.5,  125. ,  127.5,  130. ,  132.5,\n",
       "        135. ,  137.5,  140. ,  142.5,  145. ,  147.5,  150. ,  152.5,  155. ,\n",
       "        157.5,  160. ,  162.5,  165. ,  167.5,  170. ,  172.5,  175. ,  177.5])</pre></li><li class='xr-var-item'><div class='xr-var-name'><span class='xr-has-index'>month</span></div><div class='xr-var-dims'>(month)</div><div class='xr-var-dtype'>float64</div><div class='xr-var-preview xr-preview'>1.0 2.0 3.0 4.0 ... 10.0 11.0 12.0</div><input id='attrs-0611dea1-c4cb-4def-abbe-6aeeece07dec' class='xr-var-attrs-in' type='checkbox' ><label for='attrs-0611dea1-c4cb-4def-abbe-6aeeece07dec' title='Show/Hide attributes'><svg class='icon xr-icon-file-text2'><use xlink:href='#icon-file-text2'></use></svg></label><input id='data-295c13a8-ed9d-4801-b6e3-8721368ebbf1' class='xr-var-data-in' type='checkbox'><label for='data-295c13a8-ed9d-4801-b6e3-8721368ebbf1' title='Show/Hide data repr'><svg class='icon xr-icon-database'><use xlink:href='#icon-database'></use></svg></label><div class='xr-var-attrs'><dl class='xr-attrs'><dt><span>standard_name :</span></dt><dd>Month</dd><dt><span>units :</span></dt><dd>Month Number</dd></dl></div><pre class='xr-var-data'>array([ 1.,  2.,  3.,  4.,  5.,  6.,  7.,  8.,  9., 10., 11., 12.])</pre></li></ul></div></li><li class='xr-section-item'><input id='section-4cfd36dd-5f40-4c93-9830-3aaa3bae4294' class='xr-section-summary-in' type='checkbox'  checked><label for='section-4cfd36dd-5f40-4c93-9830-3aaa3bae4294' class='xr-section-summary' >Data variables: <span>(10)</span></label><div class='xr-section-inline-details'></div><div class='xr-section-details'><ul class='xr-var-list'><li class='xr-var-item'><div class='xr-var-name'><span>lsm</span></div><div class='xr-var-dims'>(lat, lon)</div><div class='xr-var-dtype'>float64</div><div class='xr-var-preview xr-preview'>...</div><input id='attrs-c0b56750-672b-4097-b06c-8afbf474aa4b' class='xr-var-attrs-in' type='checkbox' ><label for='attrs-c0b56750-672b-4097-b06c-8afbf474aa4b' title='Show/Hide attributes'><svg class='icon xr-icon-file-text2'><use xlink:href='#icon-file-text2'></use></svg></label><input id='data-83e33e1c-8d4c-4a93-ba0f-5af64c0045ab' class='xr-var-data-in' type='checkbox'><label for='data-83e33e1c-8d4c-4a93-ba0f-5af64c0045ab' title='Show/Hide data repr'><svg class='icon xr-icon-database'><use xlink:href='#icon-database'></use></svg></label><div class='xr-var-attrs'><dl class='xr-attrs'><dt><span>standard_name :</span></dt><dd>ERA-I Land-sea Mask</dd><dt><span>units :</span></dt><dd>0=Ocean, 1=Land</dd></dl></div><pre class='xr-var-data'>array([[0., 0., 0., ..., 0., 0., 0.],\n",
       "       [0., 0., 0., ..., 0., 0., 0.],\n",
       "       [0., 0., 0., ..., 0., 0., 0.],\n",
       "       ...,\n",
       "       [1., 1., 1., ..., 1., 1., 1.],\n",
       "       [1., 1., 1., ..., 1., 1., 1.],\n",
       "       [1., 1., 1., ..., 1., 1., 1.]])</pre></li><li class='xr-var-item'><div class='xr-var-name'><span>sst</span></div><div class='xr-var-dims'>(month, lat, lon)</div><div class='xr-var-dtype'>float64</div><div class='xr-var-preview xr-preview'>...</div><input id='attrs-983d09e6-629b-44c2-855b-812ce5f5e007' class='xr-var-attrs-in' type='checkbox' ><label for='attrs-983d09e6-629b-44c2-855b-812ce5f5e007' title='Show/Hide attributes'><svg class='icon xr-icon-file-text2'><use xlink:href='#icon-file-text2'></use></svg></label><input id='data-2b27e9ee-03cf-42e0-bac2-6be444809755' class='xr-var-data-in' type='checkbox'><label for='data-2b27e9ee-03cf-42e0-bac2-6be444809755' title='Show/Hide data repr'><svg class='icon xr-icon-database'><use xlink:href='#icon-database'></use></svg></label><div class='xr-var-attrs'><dl class='xr-attrs'><dt><span>standard_name :</span></dt><dd>Sea Surface Temperature</dd><dt><span>units :</span></dt><dd>degrees C</dd></dl></div><pre class='xr-var-data'>[126144 values with dtype=float64]</pre></li><li class='xr-var-item'><div class='xr-var-name'><span>msl</span></div><div class='xr-var-dims'>(month, lat, lon)</div><div class='xr-var-dtype'>float64</div><div class='xr-var-preview xr-preview'>...</div><input id='attrs-9c92c2c9-3e79-4bb2-9f9b-fdbc5ad7d4e6' class='xr-var-attrs-in' type='checkbox' ><label for='attrs-9c92c2c9-3e79-4bb2-9f9b-fdbc5ad7d4e6' title='Show/Hide attributes'><svg class='icon xr-icon-file-text2'><use xlink:href='#icon-file-text2'></use></svg></label><input id='data-de8a2626-4f35-4c50-be12-d074d936af5c' class='xr-var-data-in' type='checkbox'><label for='data-de8a2626-4f35-4c50-be12-d074d936af5c' title='Show/Hide data repr'><svg class='icon xr-icon-database'><use xlink:href='#icon-database'></use></svg></label><div class='xr-var-attrs'><dl class='xr-attrs'><dt><span>standard_name :</span></dt><dd>Mean Sea Level Pressure</dd><dt><span>units :</span></dt><dd>hPa</dd></dl></div><pre class='xr-var-data'>[126144 values with dtype=float64]</pre></li><li class='xr-var-item'><div class='xr-var-name'><span>t</span></div><div class='xr-var-dims'>(month, p, lat, lon)</div><div class='xr-var-dtype'>float64</div><div class='xr-var-preview xr-preview'>...</div><input id='attrs-da031a4f-bc9a-4c3c-b0f3-8f183caeb10f' class='xr-var-attrs-in' type='checkbox' ><label for='attrs-da031a4f-bc9a-4c3c-b0f3-8f183caeb10f' title='Show/Hide attributes'><svg class='icon xr-icon-file-text2'><use xlink:href='#icon-file-text2'></use></svg></label><input id='data-98bc4eba-51c3-4576-bf74-997a4fb5da68' class='xr-var-data-in' type='checkbox'><label for='data-98bc4eba-51c3-4576-bf74-997a4fb5da68' title='Show/Hide data repr'><svg class='icon xr-icon-database'><use xlink:href='#icon-database'></use></svg></label><div class='xr-var-attrs'><dl class='xr-attrs'><dt><span>standard_name :</span></dt><dd>Atmospheric Temperature</dd><dt><span>units :</span></dt><dd>degrees C</dd></dl></div><pre class='xr-var-data'>[3910464 values with dtype=float64]</pre></li><li class='xr-var-item'><div class='xr-var-name'><span>q</span></div><div class='xr-var-dims'>(month, p, lat, lon)</div><div class='xr-var-dtype'>float64</div><div class='xr-var-preview xr-preview'>...</div><input id='attrs-9a0c20e2-eeec-4188-93cf-9be7c16c9135' class='xr-var-attrs-in' type='checkbox' ><label for='attrs-9a0c20e2-eeec-4188-93cf-9be7c16c9135' title='Show/Hide attributes'><svg class='icon xr-icon-file-text2'><use xlink:href='#icon-file-text2'></use></svg></label><input id='data-f4a7e459-dd65-4898-a85f-680dea6be29d' class='xr-var-data-in' type='checkbox'><label for='data-f4a7e459-dd65-4898-a85f-680dea6be29d' title='Show/Hide data repr'><svg class='icon xr-icon-database'><use xlink:href='#icon-database'></use></svg></label><div class='xr-var-attrs'><dl class='xr-attrs'><dt><span>standard_name :</span></dt><dd>Specific Humidity</dd><dt><span>units :</span></dt><dd>g/kg</dd></dl></div><pre class='xr-var-data'>[3910464 values with dtype=float64]</pre></li><li class='xr-var-item'><div class='xr-var-name'><span>Vmax</span></div><div class='xr-var-dims'>(month, lat, lon)</div><div class='xr-var-dtype'>float64</div><div class='xr-var-preview xr-preview'>...</div><input id='attrs-4b36212c-fd38-4a43-9e65-133e11d903a2' class='xr-var-attrs-in' type='checkbox' ><label for='attrs-4b36212c-fd38-4a43-9e65-133e11d903a2' title='Show/Hide attributes'><svg class='icon xr-icon-file-text2'><use xlink:href='#icon-file-text2'></use></svg></label><input id='data-f2a29407-0f4f-4300-845d-506bab2e7319' class='xr-var-data-in' type='checkbox'><label for='data-f2a29407-0f4f-4300-845d-506bab2e7319' title='Show/Hide data repr'><svg class='icon xr-icon-database'><use xlink:href='#icon-database'></use></svg></label><div class='xr-var-attrs'><dl class='xr-attrs'><dt><span>standard_name :</span></dt><dd>Maximum Potential Intensity</dd><dt><span>units :</span></dt><dd>m/s</dd></dl></div><pre class='xr-var-data'>[126144 values with dtype=float64]</pre></li><li class='xr-var-item'><div class='xr-var-name'><span>To</span></div><div class='xr-var-dims'>(month, lat, lon)</div><div class='xr-var-dtype'>float64</div><div class='xr-var-preview xr-preview'>...</div><input id='attrs-f0581dbb-e190-405e-a55e-3c15ae96a19e' class='xr-var-attrs-in' type='checkbox' ><label for='attrs-f0581dbb-e190-405e-a55e-3c15ae96a19e' title='Show/Hide attributes'><svg class='icon xr-icon-file-text2'><use xlink:href='#icon-file-text2'></use></svg></label><input id='data-79d63eae-6df3-478d-b0a1-c1efdd9eb427' class='xr-var-data-in' type='checkbox'><label for='data-79d63eae-6df3-478d-b0a1-c1efdd9eb427' title='Show/Hide data repr'><svg class='icon xr-icon-database'><use xlink:href='#icon-database'></use></svg></label><div class='xr-var-attrs'><dl class='xr-attrs'><dt><span>standard_name :</span></dt><dd>Outflow Temperature</dd><dt><span>units :</span></dt><dd>kelvin</dd></dl></div><pre class='xr-var-data'>[126144 values with dtype=float64]</pre></li><li class='xr-var-item'><div class='xr-var-name'><span>Pmin</span></div><div class='xr-var-dims'>(month, lat, lon)</div><div class='xr-var-dtype'>float64</div><div class='xr-var-preview xr-preview'>...</div><input id='attrs-a1e5d4eb-31e4-4c6c-85ff-a736a869ea2b' class='xr-var-attrs-in' type='checkbox' ><label for='attrs-a1e5d4eb-31e4-4c6c-85ff-a736a869ea2b' title='Show/Hide attributes'><svg class='icon xr-icon-file-text2'><use xlink:href='#icon-file-text2'></use></svg></label><input id='data-f9d3864b-44d4-4fc2-8b7f-6977a1326a79' class='xr-var-data-in' type='checkbox'><label for='data-f9d3864b-44d4-4fc2-8b7f-6977a1326a79' title='Show/Hide data repr'><svg class='icon xr-icon-database'><use xlink:href='#icon-database'></use></svg></label><div class='xr-var-attrs'><dl class='xr-attrs'><dt><span>standard_name :</span></dt><dd>Minimum Central Pressure</dd><dt><span>units :</span></dt><dd>hPa</dd></dl></div><pre class='xr-var-data'>[126144 values with dtype=float64]</pre></li><li class='xr-var-item'><div class='xr-var-name'><span>LNB</span></div><div class='xr-var-dims'>(month, lat, lon)</div><div class='xr-var-dtype'>float64</div><div class='xr-var-preview xr-preview'>...</div><input id='attrs-5e8b4ee1-5e44-4a02-a5ac-ad7ff7fa609f' class='xr-var-attrs-in' type='checkbox' ><label for='attrs-5e8b4ee1-5e44-4a02-a5ac-ad7ff7fa609f' title='Show/Hide attributes'><svg class='icon xr-icon-file-text2'><use xlink:href='#icon-file-text2'></use></svg></label><input id='data-e96afce1-18ab-4e2f-b76a-a51441dbfe92' class='xr-var-data-in' type='checkbox'><label for='data-e96afce1-18ab-4e2f-b76a-a51441dbfe92' title='Show/Hide data repr'><svg class='icon xr-icon-database'><use xlink:href='#icon-database'></use></svg></label><div class='xr-var-attrs'><dl class='xr-attrs'><dt><span>standard_name :</span></dt><dd>Level of Neutral Bouyancy for a Parcel Reversibly Lifted from Sea Level</dd><dt><span>units :</span></dt><dd>hPa</dd></dl></div><pre class='xr-var-data'>[126144 values with dtype=float64]</pre></li><li class='xr-var-item'><div class='xr-var-name'><span>PI_flag</span></div><div class='xr-var-dims'>(month, lat, lon)</div><div class='xr-var-dtype'>float64</div><div class='xr-var-preview xr-preview'>...</div><input id='attrs-4519c37a-0fce-4929-a17c-80b3af2812f0' class='xr-var-attrs-in' type='checkbox' ><label for='attrs-4519c37a-0fce-4929-a17c-80b3af2812f0' title='Show/Hide attributes'><svg class='icon xr-icon-file-text2'><use xlink:href='#icon-file-text2'></use></svg></label><input id='data-537925bd-518d-4cbc-bab6-6d4352097222' class='xr-var-data-in' type='checkbox'><label for='data-537925bd-518d-4cbc-bab6-6d4352097222' title='Show/Hide data repr'><svg class='icon xr-icon-database'><use xlink:href='#icon-database'></use></svg></label><div class='xr-var-attrs'><dl class='xr-attrs'><dt><span>standard_name :</span></dt><dd>Flag for BE02 algorithm</dd></dl></div><pre class='xr-var-data'>[126144 values with dtype=float64]</pre></li></ul></div></li><li class='xr-section-item'><input id='section-8bb22191-f227-4481-8596-263ceb06d2a7' class='xr-section-summary-in' type='checkbox' disabled ><label for='section-8bb22191-f227-4481-8596-263ceb06d2a7' class='xr-section-summary'  title='Expand/collapse section'>Attributes: <span>(0)</span></label><div class='xr-section-inline-details'></div><div class='xr-section-details'><dl class='xr-attrs'></dl></div></li></ul></div></div>"
      ],
      "text/plain": [
       "<xarray.Dataset>\n",
       "Dimensions:  (lat: 73, lon: 144, month: 12, p: 31)\n",
       "Coordinates:\n",
       "  * p        (p) float64 1e+03 975.0 950.0 925.0 900.0 ... 40.0 30.0 20.0 10.0\n",
       "  * lat      (lat) float64 90.0 87.5 85.0 82.5 80.0 ... -82.5 -85.0 -87.5 -90.0\n",
       "  * lon      (lon) float64 -180.0 -177.5 -175.0 -172.5 ... 172.5 175.0 177.5\n",
       "  * month    (month) float64 1.0 2.0 3.0 4.0 5.0 6.0 7.0 8.0 9.0 10.0 11.0 12.0\n",
       "Data variables:\n",
       "    lsm      (lat, lon) float64 ...\n",
       "    sst      (month, lat, lon) float64 ...\n",
       "    msl      (month, lat, lon) float64 ...\n",
       "    t        (month, p, lat, lon) float64 ...\n",
       "    q        (month, p, lat, lon) float64 ...\n",
       "    Vmax     (month, lat, lon) float64 ...\n",
       "    To       (month, lat, lon) float64 ...\n",
       "    Pmin     (month, lat, lon) float64 ...\n",
       "    LNB      (month, lat, lon) float64 ...\n",
       "    PI_flag  (month, lat, lon) float64 ..."
      ]
     },
     "execution_count": 4,
     "metadata": {},
     "output_type": "execute_result"
    }
   ],
   "source": [
    "# load and view netcdf file\n",
    "ds = xr.open_dataset(dat_loc)\n",
    "ds"
   ]
  },
  {
   "cell_type": "markdown",
   "metadata": {},
   "source": [
    "### Check Data Load"
   ]
  },
  {
   "cell_type": "code",
   "execution_count": 5,
   "metadata": {},
   "outputs": [
    {
     "data": {
      "image/png": "[encoded data removed]",
      "text/plain": [
       "<Figure size 576x360 with 1 Axes>"
      ]
     },
     "metadata": {
      "needs_background": "light"
     },
     "output_type": "display_data"
    }
   ],
   "source": [
    "# view the land-sea mask as a sanity check of our data loading\n",
    "plt.figure(figsize=(8,5))\n",
    "plt.contour(ds.lon,ds.lat,ds.lsm,[0.1,],colors='k',linewidths=2.5)\n",
    "plt.xlabel(ds.lon.standard_name)\n",
    "plt.ylabel(ds.lat.standard_name)\n",
    "plt.title(ds.lsm.standard_name)\n",
    "plt.show()"
   ]
  },
  {
   "cell_type": "markdown",
   "metadata": {},
   "source": [
    "# Test CAPE calculation"
   ]
  },
  {
   "cell_type": "markdown",
   "metadata": {},
   "source": [
    "### Grab one profile from the NA and plot"
   ]
  },
  {
   "cell_type": "code",
   "execution_count": 6,
   "metadata": {},
   "outputs": [],
   "source": [
    "# choose a location and month\n",
    "want_lat=10\n",
    "want_lon=-180\n",
    "want_mon=9\n",
    "# find the index of the profile\n",
    "xi=np.where(ds.lon==want_lon)[0][0]\n",
    "yi=np.where(ds.lat==want_lat)[0][0]\n",
    "moni=int(want_mon)\n",
    "# moni,yi,xi=0,19,76\n",
    "# get the profile and input values\n",
    "p1=np.asarray(ds.p)\n",
    "t1=np.asarray(ds.t.isel(lat=yi,lon=xi,month=moni))\n",
    "q1=np.asarray(ds.q.isel(lat=yi,lon=xi,month=moni))\n",
    "sst1=np.asarray(ds.sst.isel(lat=yi,lon=xi,month=moni))\n",
    "msl1=np.asarray(ds.msl.isel(lat=yi,lon=xi,month=moni))\n",
    "# get the output values\n",
    "to1=np.asarray(ds.To.isel(lat=yi,lon=xi,month=moni))\n",
    "pi1=np.asarray(ds.Vmax.isel(lat=yi,lon=xi,month=moni))\n",
    "pmin1=np.asarray(ds.Pmin.isel(lat=yi,lon=xi,month=moni))\n",
    "lnb1=np.asarray(ds.LNB.isel(lat=yi,lon=xi,month=moni))\n",
    "flag1=np.asarray(ds.PI_flag.isel(lat=yi,lon=xi,month=moni))"
   ]
  },
  {
   "cell_type": "code",
   "execution_count": 7,
   "metadata": {},
   "outputs": [
    {
     "data": {
      "image/png": "[encoded data removed]",
      "text/plain": [
       "<Figure size 432x288 with 1 Axes>"
      ]
     },
     "metadata": {
      "needs_background": "light"
     },
     "output_type": "display_data"
    }
   ],
   "source": [
    "plt.figure()\n",
    "plt.plot(t1,p1,lw=4)\n",
    "plt.ylim([0,1000])\n",
    "plt.gca().invert_yaxis()\n",
    "#plt.yscale('log')\n",
    "plt.ylabel(ds.p.standard_name)\n",
    "plt.xlabel('Temperature (C)')\n",
    "plt.grid()\n",
    "plt.show()"
   ]
  },
  {
   "cell_type": "code",
   "execution_count": 8,
   "metadata": {},
   "outputs": [],
   "source": [
    "# initial parcel characteristics\n",
    "TP=t1[0]+273.15;\n",
    "PP=np.min([p1[0],1000.0])\n",
    "ES0=6.112*np.exp(17.67*t1[0]/(243.5+t1[0]))\n",
    "RP=0.622*ES0/(PP-ES0)\n",
    "# convert to the proper units for CAPE module\n",
    "t1k=t1+273.15\n",
    "q1gg=q1*0.001"
   ]
  },
  {
   "cell_type": "code",
   "execution_count": 9,
   "metadata": {},
   "outputs": [],
   "source": [
    "from pi import cape\n",
    "(CAPED,TOB,LNB,IFLAG)=cape(TP,RP,PP,t1k,q1gg,p1,ascent_flag=0,ptop=50,miss_handle=0)"
   ]
  },
  {
   "cell_type": "code",
   "execution_count": 10,
   "metadata": {},
   "outputs": [],
   "source": [
    "from pi import pi\n",
    "(VMAX,PMIN,IFL,TO,LNB)=pi(sst1,msl1,p1,t1,q1,CKCD=0.9,ascent_flag=0,diss_flag=1,V_reduc=0.8,miss_handle=0)"
   ]
  },
  {
   "cell_type": "markdown",
   "metadata": {},
   "source": [
    "### PI module run time"
   ]
  },
  {
   "cell_type": "code",
   "execution_count": 11,
   "metadata": {},
   "outputs": [
    {
     "name": "stdout",
     "output_type": "stream",
     "text": [
      "Average Module Runtime = 0.0006361961364746094\n"
     ]
    },
    {
     "data": {
      "image/png": "[encoded data removed]",
      "text/plain": [
       "<Figure size 432x288 with 1 Axes>"
      ]
     },
     "metadata": {
      "needs_background": "light"
     },
     "output_type": "display_data"
    }
   ],
   "source": [
    "from pi import pi\n",
    "import time\n",
    "nruns=100\n",
    "# time the loop\n",
    "time_check=np.zeros((nruns,))\n",
    "for i in range(nruns):\n",
    "    start = time.time()\n",
    "    check=pi(sst1,msl1,p1,t1,q1,CKCD=0.9,ascent_flag=0,diss_flag=1,V_reduc=0.8,miss_handle=0)\n",
    "    end = time.time()\n",
    "    time_check[i,]=end - start\n",
    "    \n",
    "print('Average Module Runtime = '+str(np.mean(time_check)))\n",
    "plt.figure()\n",
    "plt.hist(time_check)\n",
    "plt.ylabel('Number of runs (out of 100)')\n",
    "plt.xlabel('Time elapsed (s)')\n",
    "plt.show()"
   ]
  },
  {
   "cell_type": "markdown",
   "metadata": {},
   "source": [
    "### Compare output with MATLAB calculations"
   ]
  },
  {
   "cell_type": "code",
   "execution_count": 12,
   "metadata": {},
   "outputs": [
    {
     "name": "stdout",
     "output_type": "stream",
     "text": [
      "-------PYTHON PI-------\n",
      "VMAX_check = 80.94023469862319\n",
      "PMIN_check = 884.2682448247107\n",
      "To_check = 196.17746791233628\n",
      "LNB_check = 83.75048750167105\n",
      "IFL_check = 1\n",
      "-------MATLAB PI-------\n",
      "VMAX = 80.94025179690918\n",
      "PMIN = 884.267888061597\n",
      "To = 196.17747790897812\n",
      "LNB = 83.75044975211635\n",
      "Flag = 1.0\n"
     ]
    }
   ],
   "source": [
    "print('-------PYTHON PI-------')\n",
    "print('VMAX_check = '+str(VMAX))\n",
    "print('PMIN_check = '+str(PMIN))\n",
    "print('To_check = '+str(TO))\n",
    "print('LNB_check = '+str(LNB))\n",
    "print('IFL_check = '+str(IFL))\n",
    "\n",
    "print('-------MATLAB PI-------')\n",
    "print('VMAX = '+str(pi1))\n",
    "print('PMIN = '+str(pmin1))\n",
    "print('To = '+str(to1))\n",
    "print('LNB = '+str(lnb1))\n",
    "print('Flag = '+str(flag1))"
   ]
  },
  {
   "cell_type": "markdown",
   "metadata": {},
   "source": [
    "The Python code appears to be reproducing the MATLAB CAPE and PI outputs. A full quality control is performed in the verify_pi.ipynb notebook."
   ]
  },
  {
   "cell_type": "code",
   "execution_count": null,
   "metadata": {},
   "outputs": [],
   "source": []
  }
 ],
 "metadata": {
  "kernelspec": {
   "display_name": "Python 3",
   "language": "python",
   "name": "python3"
  },
  "language_info": {
   "codemirror_mode": {
    "name": "ipython",
    "version": 3
   },
   "file_extension": ".py",
   "mimetype": "text/x-python",
   "name": "python",
   "nbconvert_exporter": "python",
   "pygments_lexer": "ipython3",
   "version": "3.7.6"
  }
 },
 "nbformat": 4,
 "nbformat_minor": 2
}
